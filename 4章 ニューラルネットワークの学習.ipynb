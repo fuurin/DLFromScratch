{
 "cells": [
  {
   "cell_type": "code",
   "execution_count": 2,
   "metadata": {},
   "outputs": [
    {
     "name": "stdout",
     "output_type": "stream",
     "text": [
      "Automatic pdb calling has been turned ON\n"
     ]
    }
   ],
   "source": [
    "%pdb\n",
    "%matplotlib inline\n",
    "import matplotlib.pyplot as plt\n",
    "import numpy as np\n",
    "from mnist import load_mnist"
   ]
  },
  {
   "cell_type": "markdown",
   "metadata": {},
   "source": [
    "ディープラーニングは画像などをそのまま学習する．特徴量を考える必要がない！"
   ]
  },
  {
   "cell_type": "markdown",
   "metadata": {},
   "source": [
    "訓練データとテストデータに分け，まだ見ぬデータに対応する汎化能力を上げ，過学習を避けるのが機械学習の目的"
   ]
  },
  {
   "cell_type": "markdown",
   "metadata": {},
   "source": [
    "推論精度の評価には次に示す損失関数を用いる"
   ]
  },
  {
   "cell_type": "markdown",
   "metadata": {},
   "source": [
    "## 2乗和誤差"
   ]
  },
  {
   "cell_type": "markdown",
   "metadata": {},
   "source": [
    "何にでも使えるが，平凡  \n",
    "回帰とかに使えそう"
   ]
  },
  {
   "cell_type": "code",
   "execution_count": 3,
   "metadata": {},
   "outputs": [
    {
     "name": "stdout",
     "output_type": "stream",
     "text": [
      "0.09750000000000003\n",
      "0.5975\n"
     ]
    }
   ],
   "source": [
    "def mean_squared_error(y, t):\n",
    "    return 0.5 * np.sum((y-t)**2)\n",
    "\n",
    "t = [0,0,1,0,0,0,0,0,0,0]\n",
    "y = [0.1, 0.05, 0.6, 0.0, 0.05, 0.1, 0.0, 0.1, 0.0, 0.0]\n",
    "print(mean_squared_error(np.array(y), np.array(t)))\n",
    "\n",
    "t = [0,0,1,0,0,0,0,0,0,0]\n",
    "y = [0.1, 0.05, 0.1, 0.0, 0.05, 0.1, 0.0, 0.6, 0.0, 0.0]\n",
    "print(mean_squared_error(np.array(y), np.array(t)))"
   ]
  },
  {
   "cell_type": "markdown",
   "metadata": {},
   "source": [
    "## 交差エントロピー誤差"
   ]
  },
  {
   "cell_type": "markdown",
   "metadata": {},
   "source": [
    "ラベルは合ってれば1,そうでなければ0，出力はソフトマックス関数などの確率  \n",
    "マスキングしたとき，色のつくところの濃さが精度といったところ．  \n",
    "実装上は，出力が0に近いとき-infにならないよう，deltaで下駄を履かせる  \n",
    "確率出力に対して弾性？が強い （当たってるとデカい）"
   ]
  },
  {
   "cell_type": "code",
   "execution_count": 4,
   "metadata": {},
   "outputs": [
    {
     "name": "stdout",
     "output_type": "stream",
     "text": [
      "0.510825457099338\n",
      "2.302584092994546\n"
     ]
    }
   ],
   "source": [
    "def cross_entropy_error(y, t):\n",
    "    delta = 1e-7\n",
    "    return -np.sum(t * np.log(y + delta))\n",
    "\n",
    "t = [0,0,1,0,0,0,0,0,0,0]\n",
    "y = [0.1, 0.05, 0.6, 0.0, 0.05, 0.1, 0.0, 0.1, 0.0, 0.0]\n",
    "print(cross_entropy_error(np.array(y), np.array(t)))\n",
    "\n",
    "t = [0,0,1,0,0,0,0,0,0,0]\n",
    "y = [0.1, 0.05, 0.1, 0.0, 0.05, 0.1, 0.0, 0.6, 0.0, 0.0]\n",
    "print(cross_entropy_error(np.array(y), np.array(t)))"
   ]
  },
  {
   "cell_type": "markdown",
   "metadata": {},
   "source": [
    "## ミニバッチ学習"
   ]
  },
  {
   "cell_type": "markdown",
   "metadata": {},
   "source": [
    "一度にたくさんのデータを使って，学習して，重み変えて…ってやってるとすごく時間かかる  \n",
    "データのうち，一部だけを使って学習しよう！  \n",
    "これはいわゆる標本調査で，確率統計の知識が使えそう！  "
   ]
  },
  {
   "cell_type": "code",
   "execution_count": 5,
   "metadata": {},
   "outputs": [
    {
     "name": "stdout",
     "output_type": "stream",
     "text": [
      "(60000, 784)\n",
      "(60000,)\n",
      "[[0 0 0 ... 0 0 0]\n",
      " [0 0 0 ... 0 0 0]\n",
      " [0 0 0 ... 0 0 0]\n",
      " ...\n",
      " [0 0 0 ... 0 0 0]\n",
      " [0 0 0 ... 0 0 0]\n",
      " [0 0 0 ... 0 0 0]]\n",
      "[8 4 4 1 6 9 8 8 1 0]\n"
     ]
    }
   ],
   "source": [
    "(x_train, t_train), (x_test, t_test) = load_mnist(flatten=True, normalize=False)\n",
    "print(x_train.shape)\n",
    "print(t_train.shape)\n",
    "\n",
    "train_size = x_train.shape[0]\n",
    "batch_size = 10\n",
    "batch_mask = np.random.choice(train_size, batch_size)\n",
    "\n",
    "x_batch = x_train[batch_mask] # 配列によるインデックス指定\n",
    "t_batch = t_train[batch_mask]\n",
    "\n",
    "print(x_batch)\n",
    "print(t_batch)"
   ]
  },
  {
   "cell_type": "markdown",
   "metadata": {},
   "source": [
    "## ミニバッチ学習による交差エントロピー誤差計算"
   ]
  },
  {
   "cell_type": "code",
   "execution_count": 6,
   "metadata": {
    "collapsed": true
   },
   "outputs": [],
   "source": [
    "# one-hot表現\n",
    "def cross_entropy_error(y, t):\n",
    "    if y.ndim == 1: #データが1つの場合も要素１つの2次元配列にして対応する\n",
    "        t = t.reshape(1, t.size)\n",
    "        y = y.reshape(1, y.size)\n",
    "    batch_size = y.shape[0]\n",
    "    return -np.sum(t * np.log(y)) / batch_size\n",
    "\n",
    "# 答えが0～9で与えられたとき\n",
    "def cross_entropy_error(y, t):\n",
    "    if y.ndim == 1:\n",
    "        t = t.reshape(1, t.size)\n",
    "        y = y.reshape(1, y.size)\n",
    "    batch_size = y.shape[0]\n",
    "    return -np.sum(np.log(y[np.arange(batch_size), t])) / batch_size"
   ]
  },
  {
   "cell_type": "code",
   "execution_count": 7,
   "metadata": {},
   "outputs": [
    {
     "name": "stdout",
     "output_type": "stream",
     "text": [
      "3\n",
      "2\n"
     ]
    }
   ],
   "source": [
    "# arangeあたりの説明\n",
    "a = np.array([[0,5,3,4,2], [4,5,1,6,2]])\n",
    "print(a[0, 2])\n",
    "print(a[1, 4])"
   ]
  },
  {
   "cell_type": "markdown",
   "metadata": {},
   "source": [
    "誤差ではなく，合ってるか合ってないか？を指標にしようとすると，誤差を最適化するための微分ができなくなる"
   ]
  },
  {
   "cell_type": "markdown",
   "metadata": {},
   "source": [
    "## 微分"
   ]
  },
  {
   "cell_type": "markdown",
   "metadata": {},
   "source": [
    "悪い実装例"
   ]
  },
  {
   "cell_type": "code",
   "execution_count": 8,
   "metadata": {
    "collapsed": true
   },
   "outputs": [],
   "source": [
    "def numerical_diff(f, x):\n",
    "    h = 10e-50\n",
    "    return (f(x+h) - f(x)) / h"
   ]
  },
  {
   "cell_type": "markdown",
   "metadata": {},
   "source": [
    "改良例"
   ]
  },
  {
   "cell_type": "code",
   "execution_count": 9,
   "metadata": {
    "collapsed": true
   },
   "outputs": [],
   "source": [
    "def numerical_diff(f, x):\n",
    "    h = 1e-4 # だとなぜかうまくいくらしい．\n",
    "    return (f(x+h)-f(x-h)) / (2 * h) #前方差分ではなく，中心差分を取ったほうが近似率が高い"
   ]
  },
  {
   "cell_type": "markdown",
   "metadata": {},
   "source": [
    "誤差が嫌なら，なるべく微分を使わないよう計算して，「解析的に」実装しよう"
   ]
  },
  {
   "cell_type": "code",
   "execution_count": 10,
   "metadata": {},
   "outputs": [
    {
     "data": {
      "text/plain": [
       "[<matplotlib.lines.Line2D at 0x20e80100c88>]"
      ]
     },
     "execution_count": 10,
     "metadata": {},
     "output_type": "execute_result"
    },
    {
     "data": {
      "image/png": "[encoded data removed]",
      "text/plain": [
       "<Figure size 432x288 with 1 Axes>"
      ]
     },
     "metadata": {},
     "output_type": "display_data"
    }
   ],
   "source": [
    "def function_1(x):\n",
    "    return 0.01*x**2 + 0.1*x\n",
    "\n",
    "import numpy as np\n",
    "import matplotlib.pylab as plt\n",
    "\n",
    "x = np.arange(0.0, 20.0, 0.1)\n",
    "y = function_1(x)\n",
    "plt.plot(x, y)"
   ]
  },
  {
   "cell_type": "code",
   "execution_count": 11,
   "metadata": {},
   "outputs": [
    {
     "name": "stdout",
     "output_type": "stream",
     "text": [
      "0.1999999999990898\n",
      "0.2999999999986347\n"
     ]
    }
   ],
   "source": [
    "print(numerical_diff(function_1, 5))\n",
    "print(numerical_diff(function_1, 10))"
   ]
  },
  {
   "cell_type": "markdown",
   "metadata": {},
   "source": [
    "## 偏微分"
   ]
  },
  {
   "cell_type": "code",
   "execution_count": 12,
   "metadata": {},
   "outputs": [
    {
     "name": "stdout",
     "output_type": "stream",
     "text": [
      "6.00000000000378\n",
      "7.999999999999119\n"
     ]
    }
   ],
   "source": [
    "def function_2(x):\n",
    "    return x[0]**2 + x[1]**2 # おわん型立体グラフ\n",
    "\n",
    "def function_tmp1(x0):\n",
    "    return x0*x0 + 4.0*2.0\n",
    "print(numerical_diff(function_tmp1, 3.0))\n",
    "\n",
    "def function_tmp2(x1):\n",
    "    return 3.0**2.0 + x1*x1\n",
    "print(numerical_diff(function_tmp2, 4.0))"
   ]
  },
  {
   "cell_type": "markdown",
   "metadata": {},
   "source": [
    "## 勾配"
   ]
  },
  {
   "cell_type": "markdown",
   "metadata": {},
   "source": [
    "すべての変数の傾きのタプル"
   ]
  },
  {
   "cell_type": "code",
   "execution_count": 13,
   "metadata": {},
   "outputs": [
    {
     "name": "stdout",
     "output_type": "stream",
     "text": [
      "[6. 8.]\n",
      "[0. 4.]\n",
      "[6. 0.]\n"
     ]
    }
   ],
   "source": [
    "# 1つのベクトルに対する勾配を返す\n",
    "def numerical_gradient_for_a_vector(f, x):\n",
    "    h = 1e-4\n",
    "    grad = np.zeros_like(x) # xと同じ形状の配列を生成\n",
    "    \n",
    "    # 全ての軸に対して傾き(微分)を求める\n",
    "    for idx in range(x.size):\n",
    "        # 一つの軸のみを微小に変動させ，「ほかの軸は固定する」\n",
    "        # つまり，その軸の変動について計算したら，戻さないといけない\n",
    "        tmp_val = x[idx]\n",
    "        \n",
    "        # 少し前のy\n",
    "        x[idx] = tmp_val + h\n",
    "        fxh1 = f(x)\n",
    "        \n",
    "        # 少し後ろのy\n",
    "        x[idx] = tmp_val - h\n",
    "        fxh2 = f(x)\n",
    "        \n",
    "        # それらの差分をxが動いた量で割ると傾きになる\n",
    "        grad[idx] = (fxh1 - fxh2) / (2 * h)\n",
    "        x[idx] = tmp_val\n",
    "    \n",
    "    return grad\n",
    "\n",
    "print(numerical_gradient_for_a_vector(function_2, np.array([3.0, 4.0])))\n",
    "print(numerical_gradient_for_a_vector(function_2, np.array([0.0, 2.0])))\n",
    "print(numerical_gradient_for_a_vector(function_2, np.array([3.0, 0.0])))"
   ]
  },
  {
   "cell_type": "code",
   "execution_count": 14,
   "metadata": {},
   "outputs": [
    {
     "data": {
      "image/png": "[encoded data removed]",
      "text/plain": [
       "<Figure size 432x288 with 1 Axes>"
      ]
     },
     "metadata": {},
     "output_type": "display_data"
    }
   ],
   "source": [
    "def numerical_gradient(f, X):\n",
    "    if X.ndim == 1:\n",
    "        # 入力ベクトルが１次元ならそのままfor a vectorを使う\n",
    "        return numerical_gradient_for_a_vector(f, X)\n",
    "    else:\n",
    "        # 入力ベクトルが複数ある時は，各ベクトルについて勾配を求める\n",
    "        # この場合は，flattenされたXとYについて，それぞれ勾配を求めている\n",
    "        grad = np.zeros_like(X)\n",
    "        for idx, x in enumerate(X):\n",
    "            grad[idx] = numerical_gradient_for_a_vector(f, x) # 勾配ベクトルが返る\n",
    "        \n",
    "        return grad # 勾配ベクトルのベクトル(2行20列)が返る\n",
    "\n",
    "def function_2(x):\n",
    "    if x.ndim == 1:\n",
    "        # 入力ベクトルが１次元なら，そのまま全要素を2乗して足して一つの値を返す\n",
    "        return np.sum(x**2)\n",
    "    else:\n",
    "        # 入力ベクトルが[X, Y] = [[...], [...]]のように1次元でないなら，X，Y，・・・の\n",
    "        # 各要素を「タテに」2乗して和を取って，1つのベクトルを返す\n",
    "        # 実はこっちはこのグラフでは使われてない\n",
    "        return np.sum(x**2, axis=1)\n",
    "\n",
    "X, Y = np.meshgrid(np.arange(-2.0, 2.1, 0.2), np.arange(-2.0, 2.1, 0.2))\n",
    "X = X.flatten()\n",
    "Y = Y.flatten()\n",
    "grad = numerical_gradient(function_2, np.array([X, Y]))\n",
    "plt.quiver(X,Y,-grad[0],-grad[1],scale_units='xy', scale=10.0)\n",
    "plt.grid()\n",
    "plt.draw()\n",
    "plt.show()"
   ]
  },
  {
   "cell_type": "markdown",
   "metadata": {},
   "source": [
    "とりあえず，勾配の方向は，関数の値を最も減らす方向である！"
   ]
  },
  {
   "cell_type": "markdown",
   "metadata": {},
   "source": [
    "## 勾配法"
   ]
  },
  {
   "cell_type": "markdown",
   "metadata": {},
   "source": [
    "ある点から始める  \n",
    "→ 勾配の方向に少し進む  \n",
    "→ 進んだ先でまた勾配を求める  \n",
    "→ …繰り返す  \n",
    "\n",
    "勾配降下法"
   ]
  },
  {
   "cell_type": "code",
   "execution_count": 15,
   "metadata": {},
   "outputs": [
    {
     "data": {
      "image/png": "[encoded data removed]",
      "text/plain": [
       "<Figure size 432x288 with 1 Axes>"
      ]
     },
     "metadata": {},
     "output_type": "display_data"
    }
   ],
   "source": [
    "x = np.arange(0, 3, 0.1)\n",
    "y = x ** 2\n",
    "plt.plot(x, y)\n",
    "plt.plot([2, 2], [0, 9])\n",
    "plt.plot([1.8, 1.8], [0, 9])\n",
    "plt.show()"
   ]
  },
  {
   "cell_type": "markdown",
   "metadata": {},
   "source": [
    "ある点で勾配を求めた後，学習率η×勾配だけxを移動させることを繰り返す"
   ]
  },
  {
   "cell_type": "code",
   "execution_count": 16,
   "metadata": {},
   "outputs": [
    {
     "data": {
      "text/plain": [
       "array([-0.03458765,  0.04611686])"
      ]
     },
     "execution_count": 16,
     "metadata": {},
     "output_type": "execute_result"
    },
    {
     "data": {
      "image/png": "[encoded data removed]",
      "text/plain": [
       "<Figure size 432x288 with 1 Axes>"
      ]
     },
     "metadata": {},
     "output_type": "display_data"
    }
   ],
   "source": [
    "def gradient_descent(f, init_x, lr=0.1, step_num=20):\n",
    "    x = init_x\n",
    "    grads = []\n",
    "    for i in range(step_num):\n",
    "        grads.append(x.copy())\n",
    "        grad = numerical_gradient_for_a_vector(f, x)\n",
    "        x -= lr * grad # xを更新．傾きが正なら左へ，傾きが負なら右へ行けばいい．\n",
    "    grads = np.array(grads)\n",
    "    plt.scatter(grads[:,0], grads[:,1])\n",
    "    return x\n",
    "\n",
    "init_x = np.array([-3.0, 4.0])\n",
    "gradient_descent(function_2, init_x)"
   ]
  },
  {
   "cell_type": "markdown",
   "metadata": {},
   "source": [
    "学習率はハイパーパラメータの一つ  \n",
    "大きすぎても小さすぎてもよくない"
   ]
  },
  {
   "cell_type": "markdown",
   "metadata": {},
   "source": [
    "## ニューラルネットに対する勾配法"
   ]
  },
  {
   "cell_type": "markdown",
   "metadata": {},
   "source": [
    "損失関数がLで与えられたとき，重みベクトルWに対する勾配は，LをWの各成分で偏微分した，Wと同じ形状のもの"
   ]
  },
  {
   "cell_type": "code",
   "execution_count": 17,
   "metadata": {},
   "outputs": [
    {
     "name": "stdout",
     "output_type": "stream",
     "text": [
      "[[-0.56875312 -0.66111807  0.03740873]\n",
      " [-0.71350483  0.20698094 -0.49080342]] \n",
      "\n",
      "[-0.98340622 -0.21038799 -0.41927784] \n",
      "\n",
      "1\n"
     ]
    },
    {
     "data": {
      "text/plain": [
       "4.009473119059036"
      ]
     },
     "execution_count": 17,
     "metadata": {},
     "output_type": "execute_result"
    }
   ],
   "source": [
    "# 確率で出してくれるやつ\n",
    "def softmax(a):\n",
    "    c = np.max(a)\n",
    "    exp_a = np.exp(a-c)\n",
    "    exp_a_sum = np.sum(exp_a)\n",
    "    return exp_a / exp_a_sum\n",
    "\n",
    "class simpleNet:\n",
    "    def __init__(self):\n",
    "        self.W = np.random.randn(2,3) # 2個の玉が3個の玉に向かう1層ネットワーク\n",
    "\n",
    "    def predict(self, x):\n",
    "        return np.dot(x, self.W)\n",
    "    \n",
    "    def loss(self, x, t):\n",
    "        z = self.predict(x)\n",
    "        y = softmax(z)\n",
    "        loss = cross_entropy_error(y, t)\n",
    "        return loss\n",
    "\n",
    "net = simpleNet()\n",
    "print(net.W, \"\\n\")\n",
    "\n",
    "x = np.array([0.6, 0.9])\n",
    "p = net.predict(x) # 入力に対して重みをかけた出力はどんなもん？\n",
    "print(p, \"\\n\")\n",
    "\n",
    "print(np.argmax(p)) # 一番確率が高いやつのインデックス\n",
    "\n",
    "t = np.array([0,0,1])\n",
    "net.loss(x, t) # 正解はどうかな？"
   ]
  },
  {
   "cell_type": "code",
   "execution_count": 18,
   "metadata": {},
   "outputs": [
    {
     "name": "stdout",
     "output_type": "stream",
     "text": [
      "[[-0.8344591   0.19186933  0.64258978]\n",
      " [-1.25168866  0.28780399  0.96388467]]\n"
     ]
    }
   ],
   "source": [
    "def f(W):\n",
    "    # ｘの値はnumerical_gradient_for_a_vectorの中で少しいじられたあとlossが求められる．\n",
    "    # xの軸の一つを少しいじってlossを求めることを各行ベクトルについて繰り返す．\n",
    "    return net.loss(x,t)\n",
    "\n",
    "dW = numerical_gradient(f, net.W) # 勾配グラフ作ったほう\n",
    "print(dW)"
   ]
  },
  {
   "cell_type": "markdown",
   "metadata": {},
   "source": [
    "## 学習アルゴリズムの実装"
   ]
  },
  {
   "cell_type": "markdown",
   "metadata": {},
   "source": [
    "1. 訓練データから，ランダムに一部のデータを選び出す\n",
    "1. 選んだデータを入力して，すべての勾配(ベクトル)を求める\n",
    "1. 全ての重みパラメータを勾配方向に微小量変化させる\n",
    "1. 以上を繰り返す"
   ]
  },
  {
   "cell_type": "markdown",
   "metadata": {},
   "source": [
    "無作為に選ばれたデータ使用するので，確率的勾配降下法(Statistic Gradient Descent, SGD)という.\n"
   ]
  },
  {
   "cell_type": "markdown",
   "metadata": {},
   "source": [
    "2層ニューラルネットワークを実装してみる"
   ]
  },
  {
   "cell_type": "code",
   "execution_count": 19,
   "metadata": {
    "collapsed": true
   },
   "outputs": [],
   "source": [
    "def sigmoid(x):\n",
    "    return 1 / (1 + np.exp(-x))\n",
    "\n",
    "# one-hot表現\n",
    "def cross_entropy_error(y, t):\n",
    "    if y.ndim == 1: #データが1つの場合も要素１つの2次元配列にして対応する\n",
    "        t = t.reshape(1, t.size)\n",
    "        y = y.reshape(1, y.size)\n",
    "    batch_size = y.shape[0]\n",
    "    return -np.sum(t * np.log(y)) / batch_size\n",
    "\n",
    "class TwoLayerNet:\n",
    "    def __init__(self, input_size, hidden_size, output_size, weight_init_std=0.01):\n",
    "        self.params = {}\n",
    "        self.params['W1'] = weight_init_std * np.random.randn(input_size, hidden_size)\n",
    "        self.params['b1'] = np.zeros(hidden_size)\n",
    "        self.params['W2'] = weight_init_std * np.random.randn(hidden_size, output_size)\n",
    "        self.params['b2'] = np.zeros(output_size)\n",
    "    \n",
    "    # Xは何個でも画像をもらえる．それぞれの画像に対する予測結果を返す．\n",
    "    def predict(self, x):\n",
    "        W1, W2 = self.params['W1'], self.params[\"W2\"]\n",
    "        b1, b2 = self.params['b1'], self.params[\"b2\"]\n",
    "        \n",
    "        a1 = np.dot(x, W1) + b1\n",
    "        z1 = sigmoid(a1)\n",
    "        a2 = np.dot(z1, W2) + b2\n",
    "        z2 = sigmoid(a2)\n",
    "        y = softmax(z2)\n",
    "        \n",
    "        return y\n",
    "    \n",
    "    def loss(self, x, t):\n",
    "        p = self.predict(x)\n",
    "        return cross_entropy_error(p, t)\n",
    "    \n",
    "    def accuracy(self, x, t):\n",
    "        y = self.predict(x)\n",
    "        y = np.argmax(y, axis=1) # デフォルトは縦でargmaxを求めてしまう．1行の中の最大値が推測結果．\n",
    "        t = np.argmax(t, axis=1)\n",
    "        \n",
    "        accuracy = np.sum(y == t) / float(x.shape[0])\n",
    "        return accuracy\n",
    "    \n",
    "    def numerical_gradient(self, x, t):\n",
    "        loss_W = lambda W: self.loss(x, t)\n",
    "        grads = {}\n",
    "        grads[\"W1\"] = numerical_gradient(loss_W, self.params[\"W1\"])\n",
    "        grads[\"b1\"] = numerical_gradient(loss_W, self.params[\"b1\"])\n",
    "        grads[\"W2\"] = numerical_gradient(loss_W, self.params[\"W2\"])\n",
    "        grads[\"b2\"] = numerical_gradient(loss_W, self.params[\"b2\"])\n",
    "        \n",
    "        return grads"
   ]
  },
  {
   "cell_type": "code",
   "execution_count": 20,
   "metadata": {},
   "outputs": [
    {
     "name": "stdout",
     "output_type": "stream",
     "text": [
      "(784, 100)\n",
      "(100,)\n",
      "(100, 10)\n",
      "(10,)\n"
     ]
    }
   ],
   "source": [
    "net = TwoLayerNet(input_size=784, hidden_size=100, output_size=10)\n",
    "print(net.params[\"W1\"].shape)\n",
    "print(net.params[\"b1\"].shape)\n",
    "print(net.params[\"W2\"].shape)\n",
    "print(net.params[\"b2\"].shape)"
   ]
  },
  {
   "cell_type": "code",
   "execution_count": 24,
   "metadata": {},
   "outputs": [
    {
     "name": "stdout",
     "output_type": "stream",
     "text": [
      "Iteration: 0 Loss: 4.604110512321279\n",
      "Iteration: 1 Loss: 4.597323739596787\n",
      "Iteration: 2 Loss: 4.597619195410966\n",
      "Iteration: 3 Loss: 4.595745263779169\n",
      "Iteration: 4 Loss: 4.598249140626203\n",
      "Iteration: 5 Loss: 4.601647861367734\n",
      "Iteration: 6 Loss: 4.588520515721751\n",
      "Iteration: 7 Loss: 4.608432797736972\n",
      "Iteration: 8 Loss: 4.596760403367078\n",
      "Iteration: 9 Loss: 4.585759460229134\n"
     ]
    },
    {
     "data": {
      "text/plain": [
       "[<matplotlib.lines.Line2D at 0x20e80a7ce10>]"
      ]
     },
     "execution_count": 24,
     "metadata": {},
     "output_type": "execute_result"
    },
    {
     "data": {
      "image/png": "[encoded data removed]",
      "text/plain": [
       "<Figure size 432x288 with 1 Axes>"
      ]
     },
     "metadata": {},
     "output_type": "display_data"
    }
   ],
   "source": [
    "\"\"\"\n",
    "(x_train, t_train), (x_test, t_test) = load_mnist(normalize=True, one_hot_label=True)\n",
    "train_loss_list = []\n",
    "\n",
    "iters_num = 10\n",
    "train_size = x_train.shape[0]\n",
    "batch_size = 10\n",
    "learning_rate = 0.1\n",
    "\n",
    "network = TwoLayerNet(input_size=784, hidden_size=50, output_size=10)\n",
    "\n",
    "for i in range(iters_num):\n",
    "    # ミニバッチの取得\n",
    "    batch_mask = np.random.choice(train_size, batch_size)\n",
    "    x_batch = x_train[batch_mask]\n",
    "    t_batch = t_train[batch_mask]\n",
    "    \n",
    "    grad = network.numerical_gradient(x_batch, t_batch)\n",
    "    \n",
    "    for key in ('W1', 'b1', 'W2', \"b2\"):\n",
    "        network.params[key] -= learning_rate * grad[key]\n",
    "    \n",
    "    loss = network.loss(x_batch, t_batch)\n",
    "    print(\"Iteration:\", i, \"Loss:\", loss)\n",
    "    train_loss_list.append(loss)\n",
    "\n",
    "X = np.arange(0, iters_num)\n",
    "plt.plot(X, train_loss_list)\n",
    "\"\"\""
   ]
  },
  {
   "cell_type": "markdown",
   "metadata": {},
   "source": [
    "アホみたいに時間かかる"
   ]
  },
  {
   "cell_type": "markdown",
   "metadata": {},
   "source": [
    "テストデータで評価する  \n",
    "ミニバッチで使用したデータの合計が全データに上ったとき，それを1エポックという単位であらわす．  \n",
    "バッチが100個，全データが10000個のとき，100回繰り返したら，1エポックになる．  \n",
    "一般的に，1エポックごとにAccuracyのテストを行う模様"
   ]
  },
  {
   "cell_type": "code",
   "execution_count": 26,
   "metadata": {},
   "outputs": [
    {
     "name": "stdout",
     "output_type": "stream",
     "text": [
      "Iteration: 0 Loss: 4.593895369320135\n",
      "Iteration: 1 Loss: 4.607194458656849\n",
      "Iteration: 2 Loss: 4.598491499520608\n",
      "Iteration: 3 Loss: 4.603851292236709\n",
      "Iteration: 4 Loss: 4.6015700881446655\n",
      "Iteration: 5 Loss: 4.601876636420679\n",
      "Iteration: 6 Loss: 4.600999464374449\n",
      "Iteration: 7 Loss: 4.586529720986534\n",
      "Iteration: 8 Loss: 4.59368033487231\n",
      "Iteration: 9 Loss: 4.612823605580028\n"
     ]
    },
    {
     "data": {
      "text/plain": [
       "[<matplotlib.lines.Line2D at 0x20e8080a4e0>]"
      ]
     },
     "execution_count": 26,
     "metadata": {},
     "output_type": "execute_result"
    },
    {
     "data": {
      "image/png": "[encoded data removed]",
      "text/plain": [
       "<Figure size 432x288 with 1 Axes>"
      ]
     },
     "metadata": {},
     "output_type": "display_data"
    }
   ],
   "source": [
    "\"\"\"\n",
    "(x_train, t_train), (x_test, t_test) = load_mnist(normalize=True, one_hot_label=True)\n",
    "\n",
    "iters_num = 10\n",
    "train_size = x_train.shape[0]\n",
    "batch_size = 10\n",
    "learning_rate = 0.1\n",
    "\n",
    "train_loss_list = []\n",
    "train_acc_list = []\n",
    "test_acc_list = []\n",
    "iter_per_epoch = max(train_size / batch_size, 1)\n",
    "\n",
    "network = TwoLayerNet(input_size=784, hidden_size=50, output_size=10)\n",
    "\n",
    "for i in range(iters_num):\n",
    "    # ミニバッチの取得\n",
    "    batch_mask = np.random.choice(train_size, batch_size)\n",
    "    x_batch = x_train[batch_mask]\n",
    "    t_batch = t_train[batch_mask]\n",
    "    \n",
    "    grad = network.numerical_gradient(x_batch, t_batch)\n",
    "    \n",
    "    for key in ('W1', 'b1', 'W2', \"b2\"):\n",
    "        network.params[key] -= learning_rate * grad[key]\n",
    "    \n",
    "    loss = network.loss(x_batch, t_batch)\n",
    "    print(\"Iteration:\", i, \"Loss:\", loss)\n",
    "    train_loss_list.append(loss)\n",
    "    \n",
    "    # if i % iter_per_epoch == 0:\n",
    "    if i % 2 == 0:\n",
    "        train_acc = network.accuracy(x_train, t_train)\n",
    "        test_acc = network.accuracy(x_test, t_test)\n",
    "        train_acc_list.append(train_acc)\n",
    "        test_acc_list.append(test_acc)\n",
    "        \n",
    "\n",
    "X1 = np.arange(0, len(train_acc_list))\n",
    "X2 = np.arange(0, len(test_acc_list))\n",
    "plt.plot(X1, train_acc_list)\n",
    "plt.plot(X2, test_acc_list)\n",
    "\"\"\""
   ]
  },
  {
   "cell_type": "markdown",
   "metadata": {},
   "source": [
    "精度が1に収束すれば，過学習が起きていないことになる．"
   ]
  },
  {
   "cell_type": "markdown",
   "metadata": {},
   "source": [
    "## まとめ"
   ]
  },
  {
   "cell_type": "markdown",
   "metadata": {},
   "source": [
    "推測：入力データ→重みをつける→出力結果  \n",
    "勾配降下法による学習：推測→勾配を求める(時間かかる)→すべての重みを勾配×学習率だけ動かし，更新→繰り返す  \n",
    "確率的勾配降下法：ランダムにデータを選んで行うミニバッチ学習．バッチ数×画素数が1つの入力データになり，それを学習する．  \n",
    "精度テスト：1エポックに1回，すべてのデータをその時の重みで推測させてやって，どれだけ当たってるかを調べる．  \n",
    "\n",
    "この手法だとめっちゃ時間かかる. バッチ数×画素数を，値少し変えて全部のloss, 値変えて全部のlossをやっているから．  \n",
    "次章の誤差逆伝搬法では，効率的に勾配を求める．"
   ]
  }
 ],
 "metadata": {
  "kernelspec": {
   "display_name": "Python 3",
   "language": "python",
   "name": "python3"
  },
  "language_info": {
   "codemirror_mode": {
    "name": "ipython",
    "version": 3
   },
   "file_extension": ".py",
   "mimetype": "text/x-python",
   "name": "python",
   "nbconvert_exporter": "python",
   "pygments_lexer": "ipython3",
   "version": "3.7.0"
  }
 },
 "nbformat": 4,
 "nbformat_minor": 2
}
